{
  "cells": [
    {
      "cell_type": "code",
      "execution_count": null,
      "metadata": {
        "colab": {
          "base_uri": "https://localhost:8080/"
        },
        "id": "dtr0nkp_snRC",
        "outputId": "5a279316-9f25-46e8-d475-3144ac4a2799"
      },
      "outputs": [],
      "source": [
        "!pip install SPARQLWrapper pysparql-anything"
      ]
    },
    {
      "cell_type": "markdown",
      "metadata": {
        "id": "62Cy19Y6tnen"
      },
      "source": [
        "# **Popolazione del CSV con informazioni ricavate dai dati richies**"
      ]
    },
    {
      "cell_type": "code",
      "execution_count": 12,
      "metadata": {
        "id": "mc8shDS9r9qa"
      },
      "outputs": [],
      "source": [
        "import csv\n",
        "import datetime\n",
        "from SPARQLWrapper import SPARQLWrapper, JSON\n",
        "\n",
        "def query_author_data(author_name):\n",
        "    \"\"\"Interroga Wikidata per ottenere informazioni sull'autore.\"\"\"\n",
        "    sparql = SPARQLWrapper(\"https://query.wikidata.org/sparql\")\n",
        "    query = f\"\"\"\n",
        "    SELECT ?genderLabel ?birthYear WHERE {{\n",
        "        ?author ?label \"{author_name}\"@en.\n",
        "        ?author wdt:P21 ?gender;\n",
        "               wdt:P569 ?birthDate.\n",
        "        BIND(YEAR(?birthDate) AS ?birthYear)\n",
        "\n",
        "        SERVICE wikibase:label {{ bd:serviceParam wikibase:language \"en\". }}\n",
        "    }}\n",
        "    LIMIT 1\n",
        "    \"\"\"\n",
        "    sparql.setQuery(query)\n",
        "    sparql.setReturnFormat(JSON)\n",
        "    results = sparql.query().convert()\n",
        "\n",
        "    if results[\"results\"][\"bindings\"]:\n",
        "        result = results[\"results\"][\"bindings\"][0]\n",
        "        gender = result[\"genderLabel\"][\"value\"]\n",
        "        birth_year = int(result[\"birthYear\"][\"value\"])\n",
        "        return gender, birth_year\n",
        "    else:\n",
        "        return \"Unknown\", \"Unknown\"\n",
        "\n",
        "def enrich_csv(input_file, output_file):\n",
        "    # Leggi il file CSV di input\n",
        "    with open(input_file, mode='r', encoding='utf-8') as infile:\n",
        "        reader = csv.DictReader(infile)\n",
        "        rows = list(reader)\n",
        "\n",
        "    # Campi aggiuntivi\n",
        "    fieldnames = reader.fieldnames + [\"Gender\", \"Author Birth Year\"]\n",
        "\n",
        "    # Scrivi il nuovo file CSV\n",
        "    with open(output_file, mode='w', encoding='utf-8', newline='') as outfile:\n",
        "        writer = csv.DictWriter(outfile, fieldnames=fieldnames)\n",
        "        writer.writeheader()\n",
        "\n",
        "        for row in rows:\n",
        "            author = row[\"Nome dell'autore dell'opera\"]\n",
        "            gender, birth_year = query_author_data(author)\n",
        "\n",
        "            row[\"Gender\"] = gender\n",
        "            row[\"Author Birth Year\"] = birth_year\n",
        "\n",
        "            writer.writerow(row)\n",
        "\n",
        "# Esempio di utilizzo\n",
        "enrich_csv(\n",
        "    input_file=\"Argomento Opera (Risposte) - Risposte del modulo 1.csv\",\n",
        "    output_file=\"work_topics.csv\"\n",
        ")"
      ]
    },
    {
      "cell_type": "code",
      "execution_count": null,
      "metadata": {
        "id": "GlX602LDt-YY"
      },
      "outputs": [],
      "source": [
        "import pysparql_anything as sa\n",
        "\n",
        "engine = sa.SparqlAnything()\n",
        "\n",
        "engine.run(query='./queries/author.sparql',output='./output/ex_author.ttl',format='ttl')"
      ]
    }
  ],
  "metadata": {
    "colab": {
      "provenance": []
    },
    "kernelspec": {
      "display_name": "Python 3",
      "name": "python3"
    },
    "language_info": {
      "name": "python"
    }
  },
  "nbformat": 4,
  "nbformat_minor": 0
}
