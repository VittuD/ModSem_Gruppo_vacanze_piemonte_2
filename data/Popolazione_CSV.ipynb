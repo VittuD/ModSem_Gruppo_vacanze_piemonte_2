{
  "cells": [
    {
      "cell_type": "markdown",
      "metadata": {
        "id": "62Cy19Y6tnen"
      },
      "source": [
        "# **Popolazione del CSV con informazioni ricavate dai dati richies**"
      ]
    },
    {
      "cell_type": "code",
      "execution_count": 3,
      "metadata": {
        "id": "mc8shDS9r9qa"
      },
      "outputs": [],
      "source": [
        "import csv\n",
        "import datetime\n",
        "from SPARQLWrapper import SPARQLWrapper, JSON\n",
        "import pysparql_anything as sa\n"
      ]
    },
    {
      "cell_type": "code",
      "execution_count": null,
      "metadata": {},
      "outputs": [],
      "source": [
        "\n",
        "# Function to query Wikidata for author information\n",
        "def query_author_data(author_name):\n",
        "    \"\"\"\n",
        "    Queries Wikidata to get information about an author.\n",
        "    Args:\n",
        "        author_name (str): The name of the author to query.\n",
        "\n",
        "    Returns:\n",
        "        tuple: A tuple containing the author's gender and birth year.\n",
        "               If the data is not found, returns (\"Unknown\", \"Unknown\").\n",
        "    \"\"\"\n",
        "    sparql = SPARQLWrapper(\"https://query.wikidata.org/sparql\")  # Initialize SPARQL endpoint\n",
        "\n",
        "    # SPARQL query to retrieve gender and birth year of the author\n",
        "    query = f\"\"\"\n",
        "    SELECT ?genderLabel ?birthYear WHERE {{\n",
        "        ?author ?label \"{author_name}\"@en.  # Match the author's name in English\n",
        "        ?author wdt:P21 ?gender;            # Retrieve gender (property P21)\n",
        "               wdt:P569 ?birthDate.         # Retrieve birth date (property P569)\n",
        "        BIND(YEAR(?birthDate) AS ?birthYear) # Extract the year from the birth date\n",
        "\n",
        "        SERVICE wikibase:label {{ bd:serviceParam wikibase:language \"en\". }} # Ensure labels are in English\n",
        "    }}\n",
        "    LIMIT 1\n",
        "    \"\"\"\n",
        "\n",
        "    sparql.setQuery(query)  # Set the query to the SPARQL wrapper\n",
        "    sparql.setReturnFormat(JSON)  # Set the return format to JSON\n",
        "    results = sparql.query().convert()  # Execute the query and convert results to JSON\n",
        "\n",
        "    if results[\"results\"][\"bindings\"]:  # Check if any results were returned\n",
        "        result = results[\"results\"][\"bindings\"][0]  # Get the first result\n",
        "        gender = result[\"genderLabel\"][\"value\"]  # Extract the gender label\n",
        "        birth_year = int(result[\"birthYear\"][\"value\"])  # Extract the birth year as an integer\n",
        "        return gender, birth_year\n",
        "    else:\n",
        "        return \"Unknown\", \"Unknown\"  # Return \"Unknown\" if no data is found\n",
        "\n",
        "# Function to enrich a CSV file with additional author information\n",
        "def enrich_csv(input_file, output_file):\n",
        "    \"\"\"\n",
        "    Reads an input CSV file, queries author information from Wikidata,\n",
        "    and writes a new CSV file enriched with gender and birth year data.\n",
        "\n",
        "    Args:\n",
        "        input_file (str): Path to the input CSV file.\n",
        "        output_file (str): Path to the output CSV file.\n",
        "    \"\"\"\n",
        "    # Open the input CSV file for reading\n",
        "    with open(input_file, mode='r', encoding='utf-8') as infile:\n",
        "        reader = csv.DictReader(infile)  # Create a CSV DictReader to read rows as dictionaries\n",
        "        rows = list(reader)  # Convert rows to a list for processing\n",
        "\n",
        "    # Define the new fields to be added to the output file\n",
        "    fieldnames = reader.fieldnames + [\"Gender\", \"Author Birth Year\"]\n",
        "\n",
        "    # Open the output CSV file for writing\n",
        "    with open(output_file, mode='w', encoding='utf-8', newline='') as outfile:\n",
        "        writer = csv.DictWriter(outfile, fieldnames=fieldnames)  # Create a CSV DictWriter\n",
        "        writer.writeheader()  # Write the header row to the output file\n",
        "\n",
        "        # Process each row in the input file\n",
        "        for row in rows:\n",
        "            author = row[\"Nome dell'autore dell'opera\"]  # Get the author's name from the current row\n",
        "            gender, birth_year = query_author_data(author)  # Query Wikidata for gender and birth year\n",
        "\n",
        "            # Add the queried data to the current row\n",
        "            row[\"Gender\"] = gender\n",
        "            row[\"Author Birth Year\"] = birth_year\n",
        "\n",
        "            writer.writerow(row)  # Write the updated row to the output file\n",
        "\n",
        "# Example usage of the enrich_csv function\n",
        "enrich_csv(\n",
        "    input_file=\"Argomento Opera (Risposte) - Risposte del modulo 1.csv\",  # Input CSV file path\n",
        "    output_file=\"work_topics.csv\"  # Output CSV file path\n",
        ")\n"
      ]
    },
    {
      "cell_type": "code",
      "execution_count": 4,
      "metadata": {
        "id": "GlX602LDt-YY"
      },
      "outputs": [],
      "source": [
        "engine = sa.SparqlAnything()"
      ]
    },
    {
      "cell_type": "code",
      "execution_count": null,
      "metadata": {},
      "outputs": [],
      "source": [
        "\n",
        "engine.run(query='../queries/work_construct.sparql',output='../output/work_construct.ttl',format='ttl')"
      ]
    },
    {
      "cell_type": "code",
      "execution_count": 43,
      "metadata": {},
      "outputs": [],
      "source": [
        "engine.run(query='../queries/author_construct.sparql',output='../output/author_construct.ttl',format='ttl')"
      ]
    },
    {
      "cell_type": "code",
      "execution_count": 6,
      "metadata": {},
      "outputs": [],
      "source": [
        "engine.run(query='../queries/books_construct.sparql',output='../output/books_construct.ttl',format='ttl')"
      ]
    }
  ],
  "metadata": {
    "colab": {
      "provenance": []
    },
    "kernelspec": {
      "display_name": ".venv",
      "language": "python",
      "name": "python3"
    },
    "language_info": {
      "codemirror_mode": {
        "name": "ipython",
        "version": 3
      },
      "file_extension": ".py",
      "mimetype": "text/x-python",
      "name": "python",
      "nbconvert_exporter": "python",
      "pygments_lexer": "ipython3",
      "version": "3.11.11"
    }
  },
  "nbformat": 4,
  "nbformat_minor": 0
}
