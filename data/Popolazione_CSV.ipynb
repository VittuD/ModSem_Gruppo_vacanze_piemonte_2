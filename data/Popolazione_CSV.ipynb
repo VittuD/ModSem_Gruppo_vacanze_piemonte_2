{
  "nbformat": 4,
  "nbformat_minor": 0,
  "metadata": {
    "colab": {
      "provenance": []
    },
    "kernelspec": {
      "name": "python3",
      "display_name": "Python 3"
    },
    "language_info": {
      "name": "python"
    }
  },
  "cells": [
    {
      "cell_type": "code",
      "source": [
        "!pip install SPARQLWrapper\n"
      ],
      "metadata": {
        "colab": {
          "base_uri": "https://localhost:8080/"
        },
        "id": "dtr0nkp_snRC",
        "outputId": "5a279316-9f25-46e8-d475-3144ac4a2799"
      },
      "execution_count": 6,
      "outputs": [
        {
          "output_type": "stream",
          "name": "stdout",
          "text": [
            "Requirement already satisfied: SPARQLWrapper in /usr/local/lib/python3.10/dist-packages (2.0.0)\n",
            "Requirement already satisfied: rdflib>=6.1.1 in /usr/local/lib/python3.10/dist-packages (from SPARQLWrapper) (7.1.1)\n",
            "Requirement already satisfied: isodate<1.0.0,>=0.7.2 in /usr/local/lib/python3.10/dist-packages (from rdflib>=6.1.1->SPARQLWrapper) (0.7.2)\n",
            "Requirement already satisfied: pyparsing<4,>=2.1.0 in /usr/local/lib/python3.10/dist-packages (from rdflib>=6.1.1->SPARQLWrapper) (3.2.0)\n"
          ]
        }
      ]
    },
    {
      "cell_type": "markdown",
      "source": [],
      "metadata": {
        "id": "frBKWy06uhEY"
      }
    },
    {
      "cell_type": "markdown",
      "source": [],
      "metadata": {
        "id": "-kMJLOzLsdpv"
      }
    },
    {
      "cell_type": "markdown",
      "source": [
        "# **Popolazione del CSV con informazioni ricavate dai dati richies**"
      ],
      "metadata": {
        "id": "62Cy19Y6tnen"
      }
    },
    {
      "cell_type": "code",
      "source": [
        "import csv\n",
        "import datetime\n",
        "from SPARQLWrapper import SPARQLWrapper, JSON\n",
        "\n",
        "def query_author_data(author_name):\n",
        "    \"\"\"Interroga Wikidata per ottenere informazioni sull'autore.\"\"\"\n",
        "    sparql = SPARQLWrapper(\"https://query.wikidata.org/sparql\")\n",
        "    query = f\"\"\"\n",
        "    SELECT ?genderLabel ?birthYear WHERE {{\n",
        "        ?author ?label \"{author_name}\"@en.\n",
        "        ?author wdt:P21 ?gender;\n",
        "               wdt:P569 ?birthDate.\n",
        "        BIND(YEAR(?birthDate) AS ?birthYear)\n",
        "\n",
        "        SERVICE wikibase:label {{ bd:serviceParam wikibase:language \"en\". }}\n",
        "    }}\n",
        "    LIMIT 1\n",
        "    \"\"\"\n",
        "    sparql.setQuery(query)\n",
        "    sparql.setReturnFormat(JSON)\n",
        "    results = sparql.query().convert()\n",
        "\n",
        "    if results[\"results\"][\"bindings\"]:\n",
        "        result = results[\"results\"][\"bindings\"][0]\n",
        "        gender = result[\"genderLabel\"][\"value\"]\n",
        "        birth_year = int(result[\"birthYear\"][\"value\"])\n",
        "        return gender, birth_year\n",
        "    else:\n",
        "        return \"Unknown\", \"Unknown\"\n",
        "\n",
        "def enrich_csv(input_file, output_file):\n",
        "    # Leggi il file CSV di input\n",
        "    with open(input_file, mode='r', encoding='utf-8') as infile:\n",
        "        reader = csv.DictReader(infile)\n",
        "        rows = list(reader)\n",
        "\n",
        "    # Campi aggiuntivi\n",
        "    fieldnames = reader.fieldnames + [\"Gender\", \"Author Birth Year\"]\n",
        "\n",
        "    # Scrivi il nuovo file CSV\n",
        "    with open(output_file, mode='w', encoding='utf-8', newline='') as outfile:\n",
        "        writer = csv.DictWriter(outfile, fieldnames=fieldnames)\n",
        "        writer.writeheader()\n",
        "\n",
        "        for row in rows:\n",
        "            author = row[\"Nome dell'autore dell'opera\"]\n",
        "            gender, birth_year = query_author_data(author)\n",
        "\n",
        "            row[\"Gender\"] = gender\n",
        "            row[\"Author Birth Year\"] = birth_year\n",
        "\n",
        "            writer.writerow(row)\n",
        "\n",
        "# Esempio di utilizzo\n",
        "enrich_csv(\n",
        "    input_file=\"Argomento Opera (Risposte) - Risposte del modulo 1.csv\",\n",
        "    output_file=\"work_topics.csv\"\n",
        ")"
      ],
      "metadata": {
        "id": "mc8shDS9r9qa"
      },
      "execution_count": 12,
      "outputs": []
    },
    {
      "cell_type": "code",
      "execution_count": 14,
      "metadata": {
        "colab": {
          "base_uri": "https://localhost:8080/"
        },
        "id": "hy-bKF1voZkc",
        "outputId": "dc05d80e-9a2f-4951-e3cd-d5d364637348"
      },
      "outputs": [
        {
          "output_type": "stream",
          "name": "stdout",
          "text": [
            "Collecting pysparql-anything\n",
            "  Downloading pysparql_anything-0.9.0.3-py3-none-any.whl.metadata (16 kB)\n",
            "Requirement already satisfied: networkx==3.* in /usr/local/lib/python3.10/dist-packages (from pysparql-anything) (3.4.2)\n",
            "Requirement already satisfied: pandas==2.* in /usr/local/lib/python3.10/dist-packages (from pysparql-anything) (2.2.2)\n",
            "Collecting pygithub==2.* (from pysparql-anything)\n",
            "  Downloading PyGithub-2.5.0-py3-none-any.whl.metadata (3.9 kB)\n",
            "Collecting pyjnius==1.* (from pysparql-anything)\n",
            "  Downloading pyjnius-1.6.1-cp310-cp310-manylinux_2_17_x86_64.manylinux2014_x86_64.whl.metadata (10 kB)\n",
            "Requirement already satisfied: rdflib==7.* in /usr/local/lib/python3.10/dist-packages (from pysparql-anything) (7.1.1)\n",
            "Requirement already satisfied: requests==2.* in /usr/local/lib/python3.10/dist-packages (from pysparql-anything) (2.32.3)\n",
            "Requirement already satisfied: tqdm==4.* in /usr/local/lib/python3.10/dist-packages (from pysparql-anything) (4.66.6)\n",
            "Requirement already satisfied: numpy>=1.22.4 in /usr/local/lib/python3.10/dist-packages (from pandas==2.*->pysparql-anything) (1.26.4)\n",
            "Requirement already satisfied: python-dateutil>=2.8.2 in /usr/local/lib/python3.10/dist-packages (from pandas==2.*->pysparql-anything) (2.8.2)\n",
            "Requirement already satisfied: pytz>=2020.1 in /usr/local/lib/python3.10/dist-packages (from pandas==2.*->pysparql-anything) (2024.2)\n",
            "Requirement already satisfied: tzdata>=2022.7 in /usr/local/lib/python3.10/dist-packages (from pandas==2.*->pysparql-anything) (2024.2)\n",
            "Collecting pynacl>=1.4.0 (from pygithub==2.*->pysparql-anything)\n",
            "  Downloading PyNaCl-1.5.0-cp36-abi3-manylinux_2_17_x86_64.manylinux2014_x86_64.manylinux_2_24_x86_64.whl.metadata (8.6 kB)\n",
            "Requirement already satisfied: pyjwt>=2.4.0 in /usr/local/lib/python3.10/dist-packages (from pyjwt[crypto]>=2.4.0->pygithub==2.*->pysparql-anything) (2.10.1)\n",
            "Requirement already satisfied: typing-extensions>=4.0.0 in /usr/local/lib/python3.10/dist-packages (from pygithub==2.*->pysparql-anything) (4.12.2)\n",
            "Requirement already satisfied: urllib3>=1.26.0 in /usr/local/lib/python3.10/dist-packages (from pygithub==2.*->pysparql-anything) (2.2.3)\n",
            "Requirement already satisfied: Deprecated in /usr/local/lib/python3.10/dist-packages (from pygithub==2.*->pysparql-anything) (1.2.15)\n",
            "Requirement already satisfied: isodate<1.0.0,>=0.7.2 in /usr/local/lib/python3.10/dist-packages (from rdflib==7.*->pysparql-anything) (0.7.2)\n",
            "Requirement already satisfied: pyparsing<4,>=2.1.0 in /usr/local/lib/python3.10/dist-packages (from rdflib==7.*->pysparql-anything) (3.2.0)\n",
            "Requirement already satisfied: charset-normalizer<4,>=2 in /usr/local/lib/python3.10/dist-packages (from requests==2.*->pysparql-anything) (3.4.0)\n",
            "Requirement already satisfied: idna<4,>=2.5 in /usr/local/lib/python3.10/dist-packages (from requests==2.*->pysparql-anything) (3.10)\n",
            "Requirement already satisfied: certifi>=2017.4.17 in /usr/local/lib/python3.10/dist-packages (from requests==2.*->pysparql-anything) (2024.8.30)\n",
            "Requirement already satisfied: cryptography>=3.4.0 in /usr/local/lib/python3.10/dist-packages (from pyjwt[crypto]>=2.4.0->pygithub==2.*->pysparql-anything) (43.0.3)\n",
            "Requirement already satisfied: cffi>=1.4.1 in /usr/local/lib/python3.10/dist-packages (from pynacl>=1.4.0->pygithub==2.*->pysparql-anything) (1.17.1)\n",
            "Requirement already satisfied: six>=1.5 in /usr/local/lib/python3.10/dist-packages (from python-dateutil>=2.8.2->pandas==2.*->pysparql-anything) (1.17.0)\n",
            "Requirement already satisfied: wrapt<2,>=1.10 in /usr/local/lib/python3.10/dist-packages (from Deprecated->pygithub==2.*->pysparql-anything) (1.17.0)\n",
            "Requirement already satisfied: pycparser in /usr/local/lib/python3.10/dist-packages (from cffi>=1.4.1->pynacl>=1.4.0->pygithub==2.*->pysparql-anything) (2.22)\n",
            "Downloading pysparql_anything-0.9.0.3-py3-none-any.whl (20 kB)\n",
            "Downloading PyGithub-2.5.0-py3-none-any.whl (375 kB)\n",
            "\u001b[2K   \u001b[90m━━━━━━━━━━━━━━━━━━━━━━━━━━━━━━━━━━━━━━━━\u001b[0m \u001b[32m375.9/375.9 kB\u001b[0m \u001b[31m12.8 MB/s\u001b[0m eta \u001b[36m0:00:00\u001b[0m\n",
            "\u001b[?25hDownloading pyjnius-1.6.1-cp310-cp310-manylinux_2_17_x86_64.manylinux2014_x86_64.whl (1.5 MB)\n",
            "\u001b[2K   \u001b[90m━━━━━━━━━━━━━━━━━━━━━━━━━━━━━━━━━━━━━━━━\u001b[0m \u001b[32m1.5/1.5 MB\u001b[0m \u001b[31m44.9 MB/s\u001b[0m eta \u001b[36m0:00:00\u001b[0m\n",
            "\u001b[?25hDownloading PyNaCl-1.5.0-cp36-abi3-manylinux_2_17_x86_64.manylinux2014_x86_64.manylinux_2_24_x86_64.whl (856 kB)\n",
            "\u001b[2K   \u001b[90m━━━━━━━━━━━━━━━━━━━━━━━━━━━━━━━━━━━━━━━━\u001b[0m \u001b[32m856.7/856.7 kB\u001b[0m \u001b[31m35.8 MB/s\u001b[0m eta \u001b[36m0:00:00\u001b[0m\n",
            "\u001b[?25hInstalling collected packages: pyjnius, pynacl, pygithub, pysparql-anything\n",
            "Successfully installed pygithub-2.5.0 pyjnius-1.6.1 pynacl-1.5.0 pysparql-anything-0.9.0.3\n",
            "Welcome to PySPARQL Anything 0.9.0.3, the SPARQL Anything Python library.\n",
            "No SPARQL Anything executable jar has been found in the installation folder.\n",
            "Proceeding to download the SPARQL Anything 0.9.0 jar:\n"
          ]
        },
        {
          "output_type": "stream",
          "name": "stderr",
          "text": [
            "100%|\u001b[32m██████████\u001b[0m| 198M/198M [00:03<00:00, 62.8MiB/s]\n"
          ]
        },
        {
          "output_type": "stream",
          "name": "stdout",
          "text": [
            "The Download was successful!\n",
            "The system is now ready for use!\n"
          ]
        }
      ],
      "source": [
        "!pip install pysparql-anything\n"
      ]
    },
    {
      "cell_type": "code",
      "source": [
        "import pysparql_anything as sa\n",
        "\n",
        "engine = sa.SparqlAnything()\n",
        "\n",
        "engine.run(query='./queries/author.sparql',output='./output/ex_author.ttl',format='ttl')"
      ],
      "metadata": {
        "id": "GlX602LDt-YY"
      },
      "execution_count": null,
      "outputs": []
    }
  ]
}